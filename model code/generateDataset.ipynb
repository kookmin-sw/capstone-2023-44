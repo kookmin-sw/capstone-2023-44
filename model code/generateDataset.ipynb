{
 "cells": [
  {
   "cell_type": "code",
   "execution_count": 4,
   "metadata": {
    "collapsed": true
   },
   "outputs": [
    {
     "name": "stdout",
     "output_type": "stream",
     "text": [
      "Loading  감정 분류를 위한 대화 음성 데이터셋/5차년도_2차.csv\n",
      "Load finished.\tTime:  0.05194449424743652\n",
      "\n",
      "Processing data...\n",
      "Data processing finished.\n",
      "Data length:  19374 \n",
      "Time:  0.6410644054412842\n",
      "Save to  감정 분류를 위한 대화 음성 데이터셋/\n"
     ]
    }
   ],
   "source": [
    "#음성 데이터셋 추출\n",
    "import pandas as pd\n",
    "import pickle\n",
    "import time\n",
    "path = \"감정 분류를 위한 대화 음성 데이터셋/5차년도_2차.csv\"\n",
    "save_path = \"감정 분류를 위한 대화 음성 데이터셋/\"\n",
    "emo_dict = {\"happiness\":0, \"angry\":1, \"disgust\":2, \"fear\":3, \"sadness\":4, \"surprise\":5, \"neutral\":6}\n",
    "\n",
    "print(\"Loading \", path)\n",
    "start_time = time.time()\n",
    "frame1 = pd.read_csv(path, encoding=\"cp949\")\n",
    "frame1 = frame1[[\"발화문\", \"상황\", \"1번 감정\", \"2번 감정\", \"3번 감정\", \"4번 감정\", \"5번 감정\"]]\n",
    "print(\"Load finished.\\tTime: \", time.time()-start_time)\n",
    "\n",
    "\n",
    "print(\"\\nProcessing data...\")\n",
    "start_time = time.time()\n",
    "data = []\n",
    "for idx in frame1.index:\n",
    "    emo_dict = {\"surprise\":0, \"happiness\":0, \"angry\":0, \"disgust\":0, \"fear\":0, \"sadness\":0, \"neutral\":0}\n",
    "    emo_dict[frame1.loc[idx, \"1번 감정\"]] += 1\n",
    "    emo_dict[frame1.loc[idx, \"2번 감정\"]] += 1\n",
    "    emo_dict[frame1.loc[idx, \"3번 감정\"]] += 1\n",
    "    emo_dict[frame1.loc[idx, \"4번 감정\"]] += 1\n",
    "    emo_dict[frame1.loc[idx, \"5번 감정\"]] += 1\n",
    "    val = list(emo_dict.values())\n",
    "    for i in range(5):\n",
    "        val[i] /= 5\n",
    "    data.append([frame1.loc[idx, \"발화문\"], val])\n",
    "print(\"Data processing finished.\")\n",
    "print(\"Data length: \", len(data),\n",
    "      \"\\nTime: \", time.time()-start_time)\n",
    "print(\"Save to \", save_path)\n",
    "\n",
    "with open(save_path+'emotionAnalysis.pickle', 'wb') as f:\n",
    "    pickle.dump(data, f, pickle.HIGHEST_PROTOCOL)\n",
    "\n",
    "frame2 = pd.DataFrame(data, columns=[\"Sentence\", \"Emotion\"])\n",
    "frame2.to_csv(save_path+'emotionAnalysis.csv', index = False)"
   ]
  },
  {
   "cell_type": "code",
   "execution_count": null,
   "outputs": [],
   "source": [],
   "metadata": {
    "collapsed": false
   }
  }
 ],
 "metadata": {
  "kernelspec": {
   "display_name": "Python 3",
   "language": "python",
   "name": "python3"
  },
  "language_info": {
   "codemirror_mode": {
    "name": "ipython",
    "version": 2
   },
   "file_extension": ".py",
   "mimetype": "text/x-python",
   "name": "python",
   "nbconvert_exporter": "python",
   "pygments_lexer": "ipython2",
   "version": "2.7.6"
  }
 },
 "nbformat": 4,
 "nbformat_minor": 0
}
